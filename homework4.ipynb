{
 "cells": [
  {
   "cell_type": "markdown",
   "metadata": {},
   "source": [
    "# Math 124 - Programming for Mathematical Applications\n",
    "UC Berkeley, Spring 2021\n",
    "\n",
    "## Homework 4\n",
    "Due Wednesday, February 17"
   ]
  },
  {
   "cell_type": "markdown",
   "metadata": {},
   "source": [
    "### Problem 1\n",
    "\n",
    "(from **Insight**, P6.1.10)\n",
    "\n",
    "Write a program that generates $n=10$ real numbers selected randomly and\n",
    "uniformly distributed from the set\n",
    "$\\{x : 0 < x < 2\\text{ or }7 < x < 10\\}$."
   ]
  },
  {
   "cell_type": "code",
   "execution_count": 1,
   "metadata": {},
   "outputs": [
    {
     "data": {
      "text/plain": [
       "randomIntegerSampled (generic function with 1 method)"
      ]
     },
     "execution_count": 1,
     "metadata": {},
     "output_type": "execute_result"
    }
   ],
   "source": [
    "function randomIntegerSampled(n)\n",
    "    \n",
    "    # init an empty array to return random numbers at the end\n",
    "    arr = zeros(Float64,n)\n",
    "    i = 1 # to keep track of how many random numbers selected\n",
    "    \n",
    "    # repeat until n real random numbers are chosen\n",
    "    while i ≤ n\n",
    "        \n",
    "        roll = 10*rand() # generate a single real random number in interval [0,10]\n",
    "        \n",
    "        # only select it if it is within either one of these intervals\n",
    "        if ( (0<roll<2) || (7<roll<10) )\n",
    "            \n",
    "            arr[i] = roll # set its value into predefind array\n",
    "            i += 1 # add one to the iteration \n",
    "            \n",
    "        end\n",
    "        \n",
    "    end\n",
    "    \n",
    "    # return the generated real random numbers of length n that are only in intervals\n",
    "    # [0,2] or [7,10]\n",
    "    return arr\n",
    "\n",
    "end"
   ]
  },
  {
   "cell_type": "code",
   "execution_count": 2,
   "metadata": {},
   "outputs": [
    {
     "data": {
      "text/plain": [
       "10-element Array{Float64,1}:\n",
       " 8.874844518852882\n",
       " 8.414870864319282\n",
       " 9.831423497293706\n",
       " 1.9432782642028479\n",
       " 0.8869255272515875\n",
       " 1.1135935465822944\n",
       " 1.7030357352475267\n",
       " 0.43243983084534143\n",
       " 1.3650988130223696\n",
       " 0.4193917149976123"
      ]
     },
     "execution_count": 2,
     "metadata": {},
     "output_type": "execute_result"
    }
   ],
   "source": [
    "x = randomIntegerSampled(10) # For demonstraton purposes as n=10"
   ]
  },
  {
   "cell_type": "markdown",
   "metadata": {},
   "source": [
    "### Problem 2\n",
    "\n",
    "(from **Insight**, P6.1.12)\n",
    "\n",
    "Assume that the coefficients of the quadratic $a x^2 + bx + c$ are selected from the uniform\n",
    "distribution on $(−2, 2)$. What is the probability of complex roots? What if the coefficients are\n",
    "generated with `randn` with mean $\\mu=0$ and standard deviation $\\sigma = 0.4$?"
   ]
  },
  {
   "cell_type": "code",
   "execution_count": 3,
   "metadata": {},
   "outputs": [
    {
     "data": {
      "text/plain": [
       "characteristicRootsOfPolynomials (generic function with 1 method)"
      ]
     },
     "execution_count": 3,
     "metadata": {},
     "output_type": "execute_result"
    }
   ],
   "source": [
    "function characteristicRootsOfPolynomials(n,typeOfRandomness)\n",
    "    \n",
    "    # init the necessary variables\n",
    "    hits = 0\n",
    "    a = zeros()\n",
    "    b = zeros()\n",
    "    c = zeros()\n",
    "    \n",
    "    # if chosen distribution is normal\n",
    "    if typeOfRandomness == \"randn\"\n",
    "            \n",
    "        σ = 0.4\n",
    "        μ = 0\n",
    "        \n",
    "        # vectorized generation of the random variables a,b,c\n",
    "        # skew the normal by std\n",
    "        a = σ*randn(n) .+ μ\n",
    "        b = σ*randn(n) .+ μ\n",
    "        c = σ*randn(n) .+ μ\n",
    "    \n",
    "    # if chosen distribution is uniform\n",
    "    elseif typeOfRandomness == \"rand\" \n",
    "        \n",
    "        # vectorized generation of the random variables a,b,c\n",
    "        # we shift the unit iterval of uniform random variables to (-2,2) by the following procedure\n",
    "        a = 4*rand(n) .- 2\n",
    "        b = 4*rand(n) .- 2\n",
    "        c = 4*rand(n) .- 2\n",
    "            \n",
    "            \n",
    "    end\n",
    "    \n",
    "    # count number of instances where the determinant is negative i.e. resulting in a complex number\n",
    "    hits = count(@. b^2 - 4*a*c < 0)\n",
    "    \n",
    "    # return probability \n",
    "    return (hits/Float64(n))\n",
    "    \n",
    "end"
   ]
  },
  {
   "cell_type": "code",
   "execution_count": 4,
   "metadata": {},
   "outputs": [
    {
     "name": "stdout",
     "output_type": "stream",
     "text": [
      "The probability of complex roots given a uniform distrbution is: 0.37037\n",
      "The probability of complex roots given a normal distrbution is: 0.34931\n"
     ]
    }
   ],
   "source": [
    "complexroots_from_uniform_probability = characteristicRootsOfPolynomials(100000,\"rand\") \n",
    "complexroots_from_normal_probability = characteristicRootsOfPolynomials(100000,\"randn\") \n",
    "println(\"The probability of complex roots given a uniform distrbution is: \", complexroots_from_uniform_probability)\n",
    "println(\"The probability of complex roots given a normal distrbution is: \", complexroots_from_normal_probability)"
   ]
  },
  {
   "cell_type": "markdown",
   "metadata": {},
   "source": [
    "### Problem 3\n",
    "\n",
    "(from **Insight**, P6.1.15)\n",
    "\n",
    "Two points on the unit circle are randomly selected. What is the probability that the length\n",
    "of the connecting chord is greater than 1?"
   ]
  },
  {
   "cell_type": "code",
   "execution_count": 5,
   "metadata": {},
   "outputs": [
    {
     "data": {
      "text/plain": [
       "chordLengthProb (generic function with 1 method)"
      ]
     },
     "execution_count": 5,
     "metadata": {},
     "output_type": "execute_result"
    }
   ],
   "source": [
    "function chordLengthProb(trials)\n",
    "    \n",
    "    # init the random values picked uniformely from the circumference of circle\n",
    "    a = rand(trials)*2*pi\n",
    "    b = rand(trials)*2*pi\n",
    "    \n",
    "    # count the number of instances where in the distance or the length of the line \n",
    "    # between two random points is more than 1\n",
    "    hits = count(@. ((cos(a) - cos(b))^2 + (sin(a) - sin(b))^2) > 1)\n",
    "    \n",
    "    # return the probabilty \n",
    "    return (hits/Float64(trials))\n",
    "end"
   ]
  },
  {
   "cell_type": "code",
   "execution_count": 6,
   "metadata": {},
   "outputs": [
    {
     "data": {
      "text/plain": [
       "0.667126"
      ]
     },
     "execution_count": 6,
     "metadata": {},
     "output_type": "execute_result"
    }
   ],
   "source": [
    "chordLengthProb(1000000) # just for test purposes as expected"
   ]
  },
  {
   "cell_type": "markdown",
   "metadata": {},
   "source": [
    "### Problem 4\n",
    "\n",
    "(from **Insight**, P6.1.19a)\n",
    "\n",
    "Write a function `ProbG(L,R)` that returns an estimate of the area under the function\n",
    "$$\n",
    "f(x) =  \\frac{1}{\\sqrt{2\\pi}} e^{-x^2/2}\n",
    "$$\n",
    "from $L$ to $R$. (Assume $L < R$.) Use Monte Carlo. *Hint*: Throw darts in the rectangle having\n",
    "vertices $(L, 0)$, $(R, 0)$, $(R, 1)$, and $(L, 1)$ and count how many are under the curve."
   ]
  },
  {
   "cell_type": "code",
   "execution_count": 7,
   "metadata": {},
   "outputs": [
    {
     "data": {
      "text/plain": [
       "ProbG (generic function with 1 method)"
      ]
     },
     "execution_count": 7,
     "metadata": {},
     "output_type": "execute_result"
    }
   ],
   "source": [
    "f(x) = (1/sqrt(2*pi)) * exp( -x^2/2 ) # the function to be simulated\n",
    "d(p,q) = sqrt(p^2 + q^2) # the distance function to approximate the successful darts\n",
    "\n",
    "function ProbG(L,R)\n",
    "    \n",
    "    # set an arbitrary trial amount\n",
    "    n = 100000\n",
    "    \n",
    "    # init the random variables for the x and y coordinate in the rectangle form \n",
    "    xs = (R-L)*rand(n) .+ L\n",
    "    ys = rand(n) \n",
    "    \n",
    "    # count the instances where in the random points fall underneath the actual curve\n",
    "    counts = count(@. d.(xs,ys) .≤ d.(xs,f(xs)) )\n",
    "    \n",
    "    # return the probability of counts times the area of rectangle which gives the approximate area\n",
    "    approxArea = (counts/n)*(R-L)\n",
    "    \n",
    "    return approxArea\n",
    "end\n"
   ]
  },
  {
   "cell_type": "code",
   "execution_count": 8,
   "metadata": {},
   "outputs": [
    {
     "data": {
      "text/plain": [
       "0.68528"
      ]
     },
     "execution_count": 8,
     "metadata": {},
     "output_type": "execute_result"
    }
   ],
   "source": [
    "ProbG(-1,1) # just for test purposes as expected"
   ]
  },
  {
   "cell_type": "markdown",
   "metadata": {},
   "source": [
    "### Problem 5\n",
    "\n",
    "(from **Insight**, P6.2.5)\n",
    "\n",
    "Consider the random walk function `random_walk(n)` from the lecture slides.\n",
    "\n",
    "We conjecture that the walker is more likely to exit near the middle of an edge than near a\n",
    "corner. Produce a bar plot that sheds light on this conjecture, for `n=20` and a large number of trials. "
   ]
  },
  {
   "cell_type": "code",
   "execution_count": 9,
   "metadata": {},
   "outputs": [
    {
     "data": {
      "text/plain": [
       "random_walk (generic function with 1 method)"
      ]
     },
     "execution_count": 9,
     "metadata": {},
     "output_type": "execute_result"
    }
   ],
   "source": [
    "using PyPlot\n",
    "\n",
    "function random_walk(n)\n",
    "    \n",
    "    x = [0]\n",
    "    y = [0]\n",
    "    \n",
    "    while abs(x[end]) < n && abs(y[end]) < n\n",
    "        \n",
    "        if rand() < 0.5\n",
    "            \n",
    "            if rand() < 0.5  # Up\n",
    "                push!(x, x[end])\n",
    "                push!(y, y[end] + 1)\n",
    "                \n",
    "                \n",
    "            else             # Down\n",
    "                push!(x, x[end])\n",
    "                push!(y, y[end] - 1)\n",
    "                \n",
    "            end\n",
    "            \n",
    "        else\n",
    "            \n",
    "            if rand() < 0.5  # Right\n",
    "                push!(x, x[end] + 1)\n",
    "                push!(y, y[end])\n",
    "                \n",
    "                \n",
    "            else             # Left\n",
    "                push!(x, x[end] - 1)\n",
    "                push!(y, y[end])\n",
    "            \n",
    "            end\n",
    "            \n",
    "        end\n",
    "        \n",
    "    end\n",
    "    x,y\n",
    "end"
   ]
  },
  {
   "cell_type": "code",
   "execution_count": 10,
   "metadata": {},
   "outputs": [
    {
     "data": {
      "text/plain": [
       "randomWalkExitHistogram (generic function with 1 method)"
      ]
     },
     "execution_count": 10,
     "metadata": {},
     "output_type": "execute_result"
    }
   ],
   "source": [
    "function randomWalkExitHistogram(trial)\n",
    "    \n",
    "    n = 20 # length of the random walk rectangle on each axis\n",
    "    \n",
    "    exit = Int64[] # init an empty list of ints to store the values of the exit coordinate\n",
    "    \n",
    "    #while iter ≤ trial\n",
    "    for i = 1:trial\n",
    "        \n",
    "        # extract the values for x & y coordinate from one simple RW\n",
    "        x , y = random_walk(n)\n",
    "        \n",
    "        # check to see in which coordinate the random walk rached the corner, \n",
    "        # then add the last value of the other array \n",
    "        # since that contains the value for the second coordinate of exit\n",
    "        if (x[end] == n || x[end] == -n )\n",
    "            push!(exit,y[end])\n",
    "        else\n",
    "            push!(exit,x[end])\n",
    "        end\n",
    "        \n",
    "    end\n",
    "    \n",
    "    # Plot the histogram of the respective exit locations and their frequency\n",
    "    # the bins are defined as such instead of '20' to avoid a floating point error\n",
    "    PyPlot.hist(exit,bins=collect(-n+.5:1:n-.5)); \n",
    "    PyPlot.xlabel(\"location on either y or x axis upon exit\")\n",
    "    PyPlot.ylabel(\"frequency of exit at each location\")\n",
    "    PyPlot.title(\"Simple Random Walk Exit Location Conjecture Histogram\")\n",
    "    \n",
    "    return \n",
    "end"
   ]
  },
  {
   "cell_type": "code",
   "execution_count": 11,
   "metadata": {},
   "outputs": [
    {
     "data": {
      "image/png": "[encoded data removed]",
      "text/plain": [
       "Figure(PyObject <Figure size 640x480 with 1 Axes>)"
      ]
     },
     "metadata": {},
     "output_type": "display_data"
    }
   ],
   "source": [
    "randomWalkExitHistogram(100000)"
   ]
  },
  {
   "cell_type": "markdown",
   "metadata": {},
   "source": [
    "This histogram does indeed support the hypothesis that most of the exits do occur towards the middle rather than the edge/corners of the simple random walk enviornment."
   ]
  },
  {
   "cell_type": "markdown",
   "metadata": {},
   "source": [
    "### Problem 6"
   ]
  },
  {
   "cell_type": "markdown",
   "metadata": {},
   "source": [
    "Use Monte Carlo simulation with one million trials to estimate the probability that a random poker hand contains two pairs (that is, two of each of two different ranks and a fifth card of a third rank)."
   ]
  },
  {
   "cell_type": "code",
   "execution_count": 12,
   "metadata": {},
   "outputs": [
    {
     "data": {
      "text/plain": [
       "probOfTwoPairs (generic function with 1 method)"
      ]
     },
     "execution_count": 12,
     "metadata": {},
     "output_type": "execute_result"
    }
   ],
   "source": [
    "using Random\n",
    "\n",
    "function card_rank(card)\n",
    "    (card - 1) % 13 + 1\n",
    "end\n",
    "\n",
    "function probOfTwoPairs(trials)\n",
    "    \n",
    "    # store the value for the total number of two pairs\n",
    "    total = 0\n",
    "\n",
    "\n",
    "    for itrial = 1:trials\n",
    "    \n",
    "        # randomly select a deck of 5 cards from 52 cards\n",
    "        cards = randperm(52)\n",
    "        hand = cards[1:5]\n",
    "        rank = card_rank.(hand)\n",
    "        \n",
    "        # check how many single pairs we have at each trial\n",
    "        pairs = 0\n",
    "\n",
    "        for i = 1:5\n",
    "        \n",
    "            # check to see if the occurence if the current element in the hand is exactly two\n",
    "            if count(rank[i] .∈ rank) == 2\n",
    "\n",
    "             \n",
    "                rank[i] = 0 # to prevent the double counting for when the same rank is counted twice,\n",
    "                            # 0 is never counted since its not in ranks\n",
    "            \n",
    "                pairs += 1 \n",
    "            \n",
    "            end\n",
    "            \n",
    "        end\n",
    "    \n",
    "        # if at any point there is two pairs already, stop and add 1 to the total\n",
    "        if pairs == 2\n",
    "            total += 1\n",
    "        end\n",
    "    end\n",
    "    \n",
    "    # Returns the Probability of two pairs\n",
    "    return ((total)/(trials))\n",
    "    \n",
    "end\n"
   ]
  },
  {
   "cell_type": "code",
   "execution_count": 13,
   "metadata": {},
   "outputs": [
    {
     "data": {
      "text/plain": [
       "0.047488"
      ]
     },
     "execution_count": 13,
     "metadata": {},
     "output_type": "execute_result"
    }
   ],
   "source": [
    "probOfTwoPairs(1000000)"
   ]
  },
  {
   "cell_type": "markdown",
   "metadata": {},
   "source": [
    "### Problem 7\n",
    "\n",
    "Use array functions and vectorization to solve the problems below using *only a single line of code* for each problem."
   ]
  },
  {
   "cell_type": "code",
   "execution_count": 14,
   "metadata": {},
   "outputs": [
    {
     "data": {
      "text/plain": [
       "9×5 Array{Int64,2}:\n",
       "   0   -2  -4   5   3\n",
       " -10   -1  -3   6   4\n",
       "  -9    0  -2   7   5\n",
       "  -8  -10  -1   8   6\n",
       "  -7   -9   0   9   7\n",
       "  -6   -8   1  10   8\n",
       "  -5   -7   2   0   9\n",
       "  -4   -6   3   1  10\n",
       "  -3   -5   4   2   0"
      ]
     },
     "execution_count": 14,
     "metadata": {},
     "output_type": "execute_result"
    }
   ],
   "source": [
    "A = reshape((-22:22) .% 11, 9, 5)          # For testing"
   ]
  },
  {
   "cell_type": "markdown",
   "metadata": {},
   "source": [
    "### Problem 7(a)\n",
    "\n",
    "Count the number of elements $a$ of $A$ that satisfy $a^2<10$."
   ]
  },
  {
   "cell_type": "code",
   "execution_count": 15,
   "metadata": {},
   "outputs": [
    {
     "data": {
      "text/plain": [
       "17"
      ]
     },
     "execution_count": 15,
     "metadata": {},
     "output_type": "execute_result"
    }
   ],
   "source": [
    "count(a -> a^2 < 10,A)"
   ]
  },
  {
   "cell_type": "markdown",
   "metadata": {},
   "source": [
    "### Problem 7(b)\n",
    "\n",
    "Create a matrix which contains only the columns $j$ of $A$ where the first element $A_{1,j} \\ge 0$."
   ]
  },
  {
   "cell_type": "code",
   "execution_count": 16,
   "metadata": {},
   "outputs": [
    {
     "data": {
      "text/plain": [
       "3-element Array{Array{Int64,1},1}:\n",
       " [0, -10, -9, -8, -7, -6, -5, -4, -3]\n",
       " [5, 6, 7, 8, 9, 10, 0, 1, 2]\n",
       " [3, 4, 5, 6, 7, 8, 9, 10, 0]"
      ]
     },
     "execution_count": 16,
     "metadata": {},
     "output_type": "execute_result"
    }
   ],
   "source": [
    "B = [A[:,j] for j = 1:size(A,2) if A[1,j] ≥ 0]"
   ]
  },
  {
   "cell_type": "markdown",
   "metadata": {},
   "source": [
    "### Problem 7(c)\n",
    "\n",
    "Modify $A$ in the following way: Multiply all the elements that are even by 3 (you might need to print $A$ on a separate line to see the full matrix):"
   ]
  },
  {
   "cell_type": "code",
   "execution_count": 17,
   "metadata": {},
   "outputs": [],
   "source": [
    "A[A .% 2 .== 0] .*= 3;"
   ]
  },
  {
   "cell_type": "code",
   "execution_count": 18,
   "metadata": {},
   "outputs": [
    {
     "data": {
      "text/plain": [
       "9×5 Array{Int64,2}:\n",
       "   0   -6  -12   5   3\n",
       " -30   -1   -3  18  12\n",
       "  -9    0   -6   7   5\n",
       " -24  -30   -1  24  18\n",
       "  -7   -9    0   9   7\n",
       " -18  -24    1  30  24\n",
       "  -5   -7    6   0   9\n",
       " -12  -18    3   1  30\n",
       "  -3   -5   12   6   0"
      ]
     },
     "execution_count": 18,
     "metadata": {},
     "output_type": "execute_result"
    }
   ],
   "source": [
    "A"
   ]
  },
  {
   "cell_type": "code",
   "execution_count": null,
   "metadata": {},
   "outputs": [],
   "source": []
  }
 ],
 "metadata": {
  "kernelspec": {
   "display_name": "Julia 1.5.3",
   "language": "julia",
   "name": "julia-1.5"
  },
  "language_info": {
   "file_extension": ".jl",
   "mimetype": "application/julia",
   "name": "julia",
   "version": "1.5.3"
  }
 },
 "nbformat": 4,
 "nbformat_minor": 2
}
