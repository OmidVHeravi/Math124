{
 "cells": [
  {
   "cell_type": "markdown",
   "metadata": {},
   "source": [
    "# Math 124 - Programming for Mathematical Applications\n",
    "UC Berkeley, Spring 2021\n",
    "\n",
    "## Homework 1\n",
    "Due Wednesday Jan 27\n"
   ]
  },
  {
   "cell_type": "markdown",
   "metadata": {},
   "source": [
    "### Problem 1\n",
    "\n",
    "Fill in all the question marks in the comments (first try without running any code)."
   ]
  },
  {
   "cell_type": "code",
   "execution_count": 1,
   "metadata": {},
   "outputs": [],
   "source": [
    "X = 8;\n",
    "# X = 8, Y = Undefined\n",
    "Y = X;\n",
    "# X = 8, Y = 8\n",
    "X = Y;\n",
    "# X = 8, Y = 8\n",
    "X *= 2;\n",
    "# X = 16, Y = 8\n",
    "Y /= 2;\n",
    "# X = 16, Y = 4"
   ]
  },
  {
   "cell_type": "markdown",
   "metadata": {},
   "source": [
    "### Problem 2\n",
    "\n",
    "Write code to calculate and output the sum\n",
    "$1\\cdot 2 + 2\\cdot 3 + \\cdots + 249\\cdot 250$."
   ]
  },
  {
   "cell_type": "code",
   "execution_count": 2,
   "metadata": {},
   "outputs": [
    {
     "data": {
      "text/plain": [
       "P2 (generic function with 1 method)"
      ]
     },
     "execution_count": 2,
     "metadata": {},
     "output_type": "execute_result"
    }
   ],
   "source": [
    "# function P2 takes as input an integer \"n\" and will return the finite sum for i^2 + i starting from 1 to n\n",
    "function P2(n)\n",
    "    sum = 0\n",
    "    for i = 1:n\n",
    "        sum += (i^2 + i)\n",
    "    end\n",
    "    return sum\n",
    "end"
   ]
  },
  {
   "cell_type": "code",
   "execution_count": 3,
   "metadata": {},
   "outputs": [
    {
     "data": {
      "text/plain": [
       "5208250"
      ]
     },
     "execution_count": 3,
     "metadata": {},
     "output_type": "execute_result"
    }
   ],
   "source": [
    "P2(249) # Return the sum for i^2 + i from 1 to n = 249 "
   ]
  },
  {
   "cell_type": "markdown",
   "metadata": {},
   "source": [
    "### Problem 3\n",
    "\n",
    "(from **Insight**, P1.1.6)\n",
    "\n",
    "An ellipse with semiaxes $a$ and $b$ is specified by\n",
    "\n",
    "$$\\left( \\frac{x}{a} \\right)^2 + \\left( \\frac{y}{b} \\right)^2 = 1$$\n",
    "\n",
    "If $r=a=b$, then this defines a circle whose perimeter is given by $P=2\\pi r$.\n",
    "Unfortunately, if $a \\ne b$, then there is no simple formula for the perimeter\n",
    "and we must resort to approximation. Numerous possibilities have been worked out:\n",
    "\n",
    "\\begin{align*}\n",
    "P_1 &= \\pi(a+b) & P_5 &= \\pi(a+b)\\left(1+\\frac{3h}{10+\\sqrt{4-3h}}\\right) \\\\\n",
    "P_2 &= \\pi\\sqrt{2(a^2+b^2)} & P_6 &= \\pi(a+b)\\frac{64-3h^2}{64-16h} \\\\\n",
    "P_3 &= \\pi\\sqrt{2(a^2+b^2)-\\frac{(a-b)^2}{2}} & \n",
    "   P_7 &= \\pi(a+b)\\frac{256-48h-21h^2}{256-112h+3h^2} \\\\\n",
    "P_4 &= \\pi(a+b)\\left(1+\\frac{h}{8}\\right)^2 &\n",
    "   P_8 &= \\pi(a+b)\\left(\\frac{3-\\sqrt{1-h}}{2}\\right)\n",
    "\\end{align*}\n",
    "\n",
    "Here,\n",
    "\n",
    "$$ h = \\left(\\frac{a-b}{a+b}\\right)^2 $$\n",
    "\n",
    "can be regarded as a departure from \"circlehood.\""
   ]
  },
  {
   "cell_type": "markdown",
   "metadata": {},
   "source": [
    "### Problem 3 (a)\n",
    "\n",
    "Write a function `printallP(a,b)` which computes each of the 8 approximations\n",
    "and prints each value using `println`."
   ]
  },
  {
   "cell_type": "code",
   "execution_count": 4,
   "metadata": {},
   "outputs": [
    {
     "data": {
      "text/plain": [
       "printallP (generic function with 1 method)"
      ]
     },
     "execution_count": 4,
     "metadata": {},
     "output_type": "execute_result"
    }
   ],
   "source": [
    "# This function takes for input a = semi-axis, and b = major-axis of an ellipse. It calculates 8 approximations of the perimeter of a given ellipse.\n",
    "function printallP(a,b)\n",
    "    \n",
    "    h = (((a - b) / (a + b))^2)\n",
    "    \n",
    "    P_1 = π * (a + b)\n",
    "    \n",
    "    P_2 = π * sqrt(2*(a^2 + b^2))\n",
    "    \n",
    "    P_3 = π * sqrt(2*(a^2 + b^2) - ((a - b)^2 / 2))\n",
    "    \n",
    "    P_4 = π * (a + b) * (1 + (h / 8))^2\n",
    "    \n",
    "    P_5 = π * (a + b) * (1 + ((3 * h) / (10 + sqrt(4 - 3h))))\n",
    "    \n",
    "    P_6 = π * (a + b) * ((64 - (3 * h^2)) / (64 - (16 * h)))\n",
    "    \n",
    "    P_7 = π * (a + b) * ((256 - (48 * h) - (21 * h^2)) / (256 - (112 * h) + (3 * h^2)))\n",
    "    \n",
    "    P_8 = π * (a + b) * ((3 - (sqrt(1 - h))) / (2))\n",
    "    \n",
    "    println(\"P_1 = \", (P_1), \", P_2 = \", (P_2), \", P_3 = \", (P_3), \", P_4 = \", (P_4), \", P_5 = \", (P_5), \", P_6 = \", (P_6), \", P_7 = \", (P_7), \", P_8 = \", (P_8))\n",
    "      \n",
    "end"
   ]
  },
  {
   "cell_type": "markdown",
   "metadata": {},
   "source": [
    "### Problem 3 (b)\n",
    "\n",
    "Run `printallP` for the parameters $(a,b) = (1,1)$, $(1,0.5)$, and $(1,0.1)$."
   ]
  },
  {
   "cell_type": "code",
   "execution_count": 5,
   "metadata": {},
   "outputs": [
    {
     "name": "stdout",
     "output_type": "stream",
     "text": [
      "P_1 = 6.283185307179586, P_2 = 6.283185307179586, P_3 = 6.283185307179586, P_4 = 6.283185307179586, P_5 = 6.283185307179586, P_6 = 6.283185307179586, P_7 = 6.283185307179586, P_8 = 6.283185307179586\n"
     ]
    }
   ],
   "source": [
    "printallP(1,1) #prints the 8 perimeter for when a = 1, b = 1"
   ]
  },
  {
   "cell_type": "code",
   "execution_count": 6,
   "metadata": {},
   "outputs": [
    {
     "name": "stdout",
     "output_type": "stream",
     "text": [
      "P_1 = 4.71238898038469, P_2 = 4.967294132898051, P_3 = 4.841519436353346, P_4 = 4.844197699936344, P_5 = 4.844224108065043, P_6 = 4.844223672097832, P_7 = 4.844224098583075, P_8 = 4.847142001497851\n"
     ]
    }
   ],
   "source": [
    "printallP(1,0.5) #prints the 8 perimeter for when a = 1, b = 0.5"
   ]
  },
  {
   "cell_type": "code",
   "execution_count": 7,
   "metadata": {},
   "outputs": [
    {
     "name": "stdout",
     "output_type": "stream",
     "text": [
      "P_1 = 3.455751918948773, P_2 = 4.465042092769171, P_3 = 3.9924192049131455, P_4 = 4.058287586404561, P_5 = 4.063927210018872, P_6 = 4.063151007270351, P_7 = 4.063793684013894, P_8 = 4.190169051843549\n"
     ]
    }
   ],
   "source": [
    "printallP(1,0.1) #prints the 8 perimeter for when a = 1, b = 0.1"
   ]
  },
  {
   "cell_type": "markdown",
   "metadata": {},
   "source": [
    "### Problem 4\n",
    "\n",
    "Consider the sequence defined by the recurrence\n",
    "\n",
    "\\begin{align*}\n",
    "x_0 &= 0, \\\\\n",
    "x_n &= \\frac{2(n-1)}{n}x_{n-1} + \\frac{1}{n}\n",
    "\\end{align*}\n",
    "\n",
    "Write a function `seq1(n)` which computes $x_n$ for a given integer $n\\ge 1$. Use it to compute $x_{16}$.\n"
   ]
  },
  {
   "cell_type": "code",
   "execution_count": 8,
   "metadata": {},
   "outputs": [
    {
     "data": {
      "text/plain": [
       "seq1 (generic function with 1 method)"
      ]
     },
     "execution_count": 8,
     "metadata": {},
     "output_type": "execute_result"
    }
   ],
   "source": [
    "# The function \"seq1(n)\" takes as input an integer, n, and will output the n'th-recursive value given by x_n = (2*(n-1)/(n))x_{n-1} + 1/n\n",
    "function seq1(n)\n",
    "    \n",
    "    # init the starting variable\n",
    "    x_i = 0\n",
    "    \n",
    "    # returns 0 if n is 0\n",
    "    if n == 0 \n",
    "        return x_i\n",
    "        \n",
    "    # throws an error if n is negative\n",
    "    elseif n < 0\n",
    "        return \"Invalid input! n must be larger than or equal to 0.\"\n",
    "    \n",
    "    # Calculates the n'th digit in two stages    \n",
    "    else\n",
    "        \n",
    "        for i = 1:n\n",
    "            x_i *= ((2 * (i - 1)) / i)\n",
    "            x_i += (1 / i)\n",
    "        end\n",
    "        \n",
    "    end\n",
    "    \n",
    "    return x_i\n",
    "    \n",
    "end"
   ]
  },
  {
   "cell_type": "code",
   "execution_count": 9,
   "metadata": {},
   "outputs": [
    {
     "data": {
      "text/plain": [
       "4095.9375"
      ]
     },
     "execution_count": 9,
     "metadata": {},
     "output_type": "execute_result"
    }
   ],
   "source": [
    "seq1(16) # Returns the value for 16th digit according to the rule"
   ]
  },
  {
   "cell_type": "markdown",
   "metadata": {},
   "source": [
    "### Problem 5\n",
    "\n",
    "(from **Insight**, P2.1.5)\n",
    "\n",
    "For large $n$,\n",
    "\n",
    "\\begin{align*}\n",
    "R_n &= 1 - \\frac{1}{3} + \\cdots - \\frac{(-1)^{n+1}}{2n-1} = \\sum_{k=1}^n\n",
    "  \\frac{(-1)^{k+1}}{2k-1} \\approx \\frac{\\pi}{4} \\\\\n",
    "T_n &= 1 + \\frac{1}{2^2} + \\cdots + \\frac{1}{n^2} = \\sum_{k=1}^n \\frac{1}{k^2}\n",
    "  \\approx \\frac{\\pi^2}{6} \\\\\n",
    "U_n &= 1 + \\frac{1}{2^4} + \\cdots + \\frac{1}{n^4} = \\sum_{k=1}^n \\frac{1}{k^4}\n",
    "  \\approx \\frac{\\pi^4}{90}\n",
    "\\end{align*}\n",
    "\n",
    "giving three different ways to estimate $\\pi$:\n",
    "\n",
    "\\begin{align*}\n",
    "\\rho_n &= 4 R_n \\\\\n",
    "\\tau_n &= \\sqrt{6 T_n} \\\\\n",
    "\\mu_n &= \\sqrt[4]{90 U_n}.\n",
    "\\end{align*}"
   ]
  },
  {
   "cell_type": "markdown",
   "metadata": {},
   "source": [
    "### Problem 5 (a)\n",
    "\n",
    "Write 3 functions `Rn(n)`, `Tn(n)`, `Un(n)` which compute $R_n,T_n,U_n$ for a\n",
    "given value of $n$."
   ]
  },
  {
   "cell_type": "code",
   "execution_count": 10,
   "metadata": {},
   "outputs": [
    {
     "data": {
      "text/plain": [
       "Un (generic function with 1 method)"
      ]
     },
     "execution_count": 10,
     "metadata": {},
     "output_type": "execute_result"
    }
   ],
   "source": [
    "# Calculates the sum of (-1)^(i+1)/(2i-1) from 1 to n\n",
    "function Rn(n)\n",
    "    \n",
    "    sum = 0\n",
    "    \n",
    "    for i in 1:n\n",
    "        sum += ((-1)^(i + 1) / (2i - 1))\n",
    "    end\n",
    "    \n",
    "    return sum\n",
    "end\n",
    "\n",
    "# Calculates the sum of (1)/(i^2) from 1 to n \n",
    "function Tn(n)\n",
    "    \n",
    "    sum = 0\n",
    "    \n",
    "    for i in 1:n\n",
    "        sum += ((1) / (i^2))\n",
    "    end\n",
    "    \n",
    "    return sum  \n",
    "end\n",
    "\n",
    "# Calculates the sum of (1)/(i^4) from 1 to n\n",
    "function Un(n)\n",
    "    \n",
    "    sum = 0\n",
    "    \n",
    "    for i in 1:n\n",
    "        sum += ((1) / (i^4))\n",
    "    end\n",
    "    \n",
    "    return sum\n",
    "end\n"
   ]
  },
  {
   "cell_type": "markdown",
   "metadata": {},
   "source": [
    "### Problem 5 (b)\n",
    "\n",
    "Write a function `printerror(n)` which computes $\\rho_n,\\tau_n,\\mu_n$ and\n",
    "prints the errors $|\\pi-\\rho_n|$, $|\\pi-\\tau_n|$, and $|\\pi-\\mu_n|$."
   ]
  },
  {
   "cell_type": "code",
   "execution_count": 11,
   "metadata": {},
   "outputs": [
    {
     "data": {
      "text/plain": [
       "printerror (generic function with 1 method)"
      ]
     },
     "execution_count": 11,
     "metadata": {},
     "output_type": "execute_result"
    }
   ],
   "source": [
    "function printerror(n)\n",
    "    \n",
    "    ρ_n = 4 * Rn(n)\n",
    "    \n",
    "    τ_n = sqrt(6 * Tn(n))\n",
    "    \n",
    "    μ_n = (90 * Un(n))^(1/4)\n",
    "    \n",
    "    println(\"The |π - ρ_n| = \", abs(π - ρ_n), \", |π - τ_n| = \", abs(π - τ_n), \", and |π - μ_n| = \", abs(π - μ_n))\n",
    "    \n",
    "end"
   ]
  },
  {
   "cell_type": "markdown",
   "metadata": {},
   "source": [
    "### Problem 5 (c)\n",
    "\n",
    "Run `printerror` for $n=100$, $1000$, and $10000$. \n"
   ]
  },
  {
   "cell_type": "code",
   "execution_count": 12,
   "metadata": {},
   "outputs": [
    {
     "name": "stdout",
     "output_type": "stream",
     "text": [
      "The |π - ρ_n| = 0.00999975003123943, |π - τ_n| = 0.009516121780687836, and |π - μ_n| = 2.3828242534662536e-7\n"
     ]
    }
   ],
   "source": [
    "printerror(100) "
   ]
  },
  {
   "cell_type": "code",
   "execution_count": 13,
   "metadata": {},
   "outputs": [
    {
     "name": "stdout",
     "output_type": "stream",
     "text": [
      "The |π - ρ_n| = 0.000999999749998981, |π - τ_n| = 0.00095459738379855, and |π - μ_n| = 2.415228017582649e-10\n"
     ]
    }
   ],
   "source": [
    "printerror(1000)"
   ]
  },
  {
   "cell_type": "code",
   "execution_count": 14,
   "metadata": {},
   "outputs": [
    {
     "name": "stdout",
     "output_type": "stream",
     "text": [
      "The |π - ρ_n| = 9.99999997586265e-5, |π - τ_n| = 9.548964257843906e-5, and |π - μ_n| = 2.0117241206207837e-13\n"
     ]
    }
   ],
   "source": [
    "printerror(10000)"
   ]
  }
 ],
 "metadata": {
  "kernelspec": {
   "display_name": "Julia 1.5.3",
   "language": "julia",
   "name": "julia-1.5"
  },
  "language_info": {
   "file_extension": ".jl",
   "mimetype": "application/julia",
   "name": "julia",
   "version": "1.5.3"
  }
 },
 "nbformat": 4,
 "nbformat_minor": 2
}
