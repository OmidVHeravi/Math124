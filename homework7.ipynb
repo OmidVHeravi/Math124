{
 "cells": [
  {
   "cell_type": "markdown",
   "metadata": {},
   "source": [
    "# Math 124 - Programming for Mathematical Applications\n",
    "UC Berkeley, Spring 2021\n",
    "\n",
    "## Homework 7\n",
    "Due Wednesday, March 17"
   ]
  },
  {
   "cell_type": "markdown",
   "metadata": {},
   "source": [
    "### Problem 1: Markdown / LaTeX\n",
    "\n",
    "A page of mathematical text is provided as a PNG image below. Write this entire text segment as a Markdown / LaTeX cell.\n",
    "\n",
    "The following online resources can be helpful:\n",
    "\n",
    "- [Markdown Cheat-sheet](https://github.com/adam-p/markdown-here/wiki/Markdown-Here-Cheatsheet)\n",
    "- [Wiki-books LaTeX/Mathematics](https://en.wikibooks.org/wiki/LaTeX/Mathematics)\n",
    "- [LaTeX Math Cheat-sheet](http://tug.ctan.org/info/undergradmath/undergradmath.pdf)\n",
    "\n",
    "![md_latex_exercise1.png](https://github.com/popersson/math124files/raw/main/homework/md_latex_exercise1.png)"
   ]
  },
  {
   "cell_type": "markdown",
   "metadata": {},
   "source": [
    "# This is a top-level header\n",
    "\n",
    "*this text is emphasized*, **this text is bold**, and ***this text is both***.\n",
    "\n",
    "## A sub header\n",
    "Some inline math $\\hat{u}(x) = a \\varphi(x)$ and some display-style math:\n",
    "\n",
    "$$ \\int_{-1}^{1} f(x) dx \\approx \\sum_{1}^{n} w_if(x_i) $$\n",
    "\n",
    "where $x_i,w_i, i = 1,...,n$ are specified points and weights.\n",
    "\n",
    "Example of cases:\n",
    "$$\n",
    "\\varphi(x) = \n",
    "\\begin{cases}\n",
    "2x, && x \\leq \\frac{1}{2} \\\\ 2-2x && x > \\frac{1}{2}\n",
    "\\end{cases}\n",
    "$$\n",
    "\n",
    "### A sub-sub header\n",
    "Some bullet points with math:\n",
    "* $A$ is symmetric, that is $a_{ij} = a_{ji}$ \n",
    "* $A$ is tridiagonal, that is $a_{ij} = 0$ whenever $|i-j| > 1$\n",
    "\n",
    "And some enumerated points:\n",
    "1. First\n",
    "2. Second\n",
    "3. Third\n",
    "\n",
    "Inline Julia code with syntax highlighting:\n",
    "```julia\n",
    "function myfunc(x)\n",
    "    return 2x+1\n",
    "end\n",
    "```\n",
    "\n",
    "Multiple equations with aligned first equal signs:\n",
    "$$\n",
    "\\begin{align}\n",
    "a_{11} &= 4 \\cdot 4 \\cdot \\frac{1}{4} + (-4)(-4)\\frac{1}{4} = 8 \\\\\n",
    "a_{21} &= a_{12} = a_{23} = a_{32} = -4\n",
    "\\end{align}\n",
    "$$\n",
    "\n",
    "and some vectors and matrices\n",
    "$$\n",
    "\\begin{pmatrix}\n",
    "8 & -4 & 0\\\\\n",
    "-4 & 8 & -4\\\\\n",
    "0 & -4 & 8\n",
    "\\end{pmatrix}\n",
    "\\begin{pmatrix}\n",
    "u_1 \\\\ u_2 \\\\ u_3\n",
    "\\end{pmatrix} = \\frac{1}{4} \\begin{pmatrix}\n",
    "1 \\\\ 1 \\\\ 1\n",
    "\\end{pmatrix}\n",
    "$$\n",
    "\n",
    "Finally a horizontal line:\n",
    "***\n"
   ]
  },
  {
   "cell_type": "markdown",
   "metadata": {},
   "source": [
    "### Problem 2\n",
    "\n",
    "Consider a floating point representation\n",
    "\n",
    "$$\n",
    "+(d_0 + d_1 2^{-1})2^e, \\qquad 0\\le d_i < 2\n",
    "$$\n",
    "\n",
    "normalized so that $d_0 \\ne 0$ and with the exponent $e$ ranging from\n",
    "$e_\\mathrm{min}=-2$ to $e_\\mathrm{max}=1$."
   ]
  },
  {
   "cell_type": "markdown",
   "metadata": {},
   "source": [
    "### Problem 2(a)\n",
    "\n",
    "List the numbers that can be represented in this format."
   ]
  },
  {
   "cell_type": "markdown",
   "metadata": {},
   "source": [
    "If $e = -2$, $d_0 = 1$ and $d_1 = 0$, then we have $+(1 + 0*(\\frac{1}{2}))*2^{-2} = \\frac{1}{4}$\n",
    "\n",
    "\n",
    "If $e = -2$, $d_0 = 1$ and $d_1 = 1$, then we have $+(1 + 1*(\\frac{1}{2}))*2^{-2} = \\frac{3}{8}$\n",
    "\n",
    "\n",
    "If $e = -1$, $d_0 = 1$ and $d_1 = 0$, then we have $+(1 + 0*(\\frac{1}{2}))*2^{-1} = \\frac{1}{2}$\n",
    "\n",
    "\n",
    "If $e = -1$, $d_0 = 1$ and $d_1 = 1$, then we have $+(1 + 1*(\\frac{1}{2}))*2^{-1} = \\frac{3}{4}$\n",
    "\n",
    "\n",
    "If $e==0$, $d_0 = 1$ and $d_1 = 0$, then we have $+(1 + 0*(\\frac{1}{2}))*2^{0} = 1$\n",
    "\n",
    "\n",
    "If $e==0$, $d_0 = 1$ and $d_1 = 1$, then we have $+(1 + 1*(\\frac{1}{2}))*2^{0} = \\frac{3}{2}$\n",
    "\n",
    "\n",
    "If $e==1$, $d_0 = 1$ and $d_1 = 0$, then we have $+(1 + 0*(\\frac{1}{2}))*2^{1} = 2$\n",
    "\n",
    "\n",
    "If $e==1$, $d_0 = 1$ and $d_1 = 1$, then we have $+(1 + 1*(\\frac{1}{2}))*2^{1} = 3$\n"
   ]
  },
  {
   "cell_type": "markdown",
   "metadata": {},
   "source": [
    "### Problem 2(b)\n",
    "\n",
    "Suppose you try to compute 1.72 + 0.79 on a computer with this\n",
    "representation, which satisfies the two floating point axioms.\n",
    "What value will it return?"
   ]
  },
  {
   "cell_type": "markdown",
   "metadata": {},
   "source": [
    "To see this, recall the **fl()** operator, so **fl(1.72 + 0.79) = fl(1.72) + fl(0.79) = 1.5 + 0.75 = fl(2.25) = 2.0**."
   ]
  },
  {
   "cell_type": "markdown",
   "metadata": {},
   "source": [
    "### Problem 3\n",
    "\n",
    "Between an adjacent pair of nonzero `Float32` floating point numbers, how\n",
    "many `Float64` numbers are there?"
   ]
  },
  {
   "cell_type": "markdown",
   "metadata": {},
   "source": [
    "A single precision input will have 24 bits for the significand size and a double precision input will have 53 bits for the significand size. But notice that between any two adjacent non-zero single precision numbers, one will have a 0 in the 24th bit and the other one will have 1 instead in the 24th bit, but now instead we can \"squeeze\" a float64/double precision into the \"space\" inbetwen the two by having the double precision number match the smallest of the two single precision numbers in the first 24 bits and be 0 or 1 in the remaning (53 - 24 = 29) 29 bits of \"space\", so **in total there are a combination of $2^{29} - 1$ of Float64 numbers** that are exactly between the two non zero adjacent Float32 numbers excluding endpoints."
   ]
  },
  {
   "cell_type": "markdown",
   "metadata": {},
   "source": [
    "### Problem 4(a)\n",
    "\n",
    "The floating point numbers include many integers, but not all of them.\n",
    "Find (analytically) the smallest positive integer $n$ that is not exactly represented as a `Float64`."
   ]
  },
  {
   "cell_type": "markdown",
   "metadata": {},
   "source": [
    "The first smallest integer that is not represented is *2^(precision) + 1* because the spacing between each floating point numbers doubles as the exponent increases, i.e. *2^(exponent - precision)*, so then if the distance betweeen each consecutive integer becomes larger than 1 or if *(exponent > 1 + precision)* holds. Thus since each floating point number is represented as say; *y = $\\pm$(sig. number)2^(exponent - precision)*, this gives us *2^(precision) + 1*. So 53 is the precision limit, thus this implies that theoretically the smallest integer in double precision should be $n = 2^{53} + 1$. "
   ]
  },
  {
   "cell_type": "markdown",
   "metadata": {},
   "source": [
    "### Problem 4(b)\n",
    "\n",
    "Figure out a way to verify this result using Julia. That is, write code that produces evidence\n",
    "that $n − 3$, $n − 2$, and $n − 1$ are represented exactly as `Float64`, but $n$ is not.\n",
    "What about $n + 1$, $n + 2$, and $n + 3$?"
   ]
  },
  {
   "cell_type": "code",
   "execution_count": 1,
   "metadata": {},
   "outputs": [
    {
     "data": {
      "text/plain": [
       "9.007199254740992e15"
      ]
     },
     "execution_count": 1,
     "metadata": {},
     "output_type": "execute_result"
    }
   ],
   "source": [
    "# n = 2^(53) + 1 is the number theoretically we expect to be the fisrt to not work\n",
    "goodnumber = (Float64(2^(53))) # the last integer that is represented correctly in Float64 is n-1"
   ]
  },
  {
   "cell_type": "code",
   "execution_count": 2,
   "metadata": {},
   "outputs": [
    {
     "data": {
      "text/plain": [
       "7-element Array{Float64,1}:\n",
       " 9.00719925474099e15\n",
       " 9.007199254740991e15\n",
       " 9.007199254740992e15\n",
       " 9.007199254740992e15\n",
       " 9.007199254740994e15\n",
       " 9.007199254740996e15\n",
       " 9.007199254740996e15"
      ]
     },
     "execution_count": 2,
     "metadata": {},
     "output_type": "execute_result"
    }
   ],
   "source": [
    "arr = [Float64((2)^(53)-2), Float64(2^(53)-1), Float64((2^53)), Float64((2^(53) + 1)),\n",
    "    Float64(2^(53)+2), Float64(2^(53)+3), Float64(2^(53)+4)]"
   ]
  },
  {
   "cell_type": "code",
   "execution_count": 3,
   "metadata": {},
   "outputs": [
    {
     "name": "stdout",
     "output_type": "stream",
     "text": [
      "The difference between goodnumber=(9007199254740992) and (9007199254740990) ia: 2.0\n",
      "The difference between goodnumber=(9007199254740992) and (9007199254740991) ia: 1.0\n",
      "The difference between goodnumber=(9007199254740992) and (9007199254740992) ia: 0.0\n",
      "The difference between goodnumber=(9007199254740992) and (9007199254740992) ia: 0.0\n",
      "The difference between goodnumber=(9007199254740992) and (9007199254740994) ia: -2.0\n",
      "The difference between goodnumber=(9007199254740992) and (9007199254740996) ia: -4.0\n",
      "The difference between goodnumber=(9007199254740992) and (9007199254740996) ia: -4.0\n"
     ]
    }
   ],
   "source": [
    "for i = 1:length(arr)\n",
    "    println(\"The difference between goodnumber=($(Int64(goodnumber))) and ($(Int64(arr[i]))) ia: \", goodnumber - arr[i])\n",
    "end"
   ]
  },
  {
   "cell_type": "markdown",
   "metadata": {},
   "source": [
    "And this confirms to us that neither $2^{53} + 1$ which is n or $2^{53} + 3$ which is n+2 are represented as we wanted since their difference with the goodnumber is not 1 or 3 respectively as we would normally have. But the first smallest integer that is not represented in the Double Precision or Float64 is exactly **2^{53} + 1**."
   ]
  },
  {
   "cell_type": "code",
   "execution_count": null,
   "metadata": {},
   "outputs": [],
   "source": []
  }
 ],
 "metadata": {
  "kernelspec": {
   "display_name": "Julia 1.5.3",
   "language": "julia",
   "name": "julia-1.5"
  },
  "language_info": {
   "file_extension": ".jl",
   "mimetype": "application/julia",
   "name": "julia",
   "version": "1.5.3"
  }
 },
 "nbformat": 4,
 "nbformat_minor": 2
}
