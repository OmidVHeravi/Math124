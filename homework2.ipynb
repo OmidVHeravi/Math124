{
 "cells": [
  {
   "cell_type": "markdown",
   "metadata": {},
   "source": [
    "# Math 124 - Programming for Mathematical Applications\n",
    "UC Berkeley, Spring 2021\n",
    "\n",
    "## Homework 2\n",
    "Due Wednesday, February 3"
   ]
  },
  {
   "cell_type": "markdown",
   "metadata": {},
   "source": [
    "### Problem 1\n",
    "Consider the 4-term recurrence relation\n",
    "$$ay_{n+1} = by_n + cy_{n-1} + dy_{n-2}$$\n",
    "with $a=1$, $b=2$, $c=-5/4$, and $d=1/4$.\n",
    "\n",
    "### Problem 1 (a)\n",
    "\n",
    "Write a function `four_term(y0, y1, y2, n)` to return $y_n$ in this recurrence, taking in the initial values, $y_0$, $y_1$, and $y_2$. You can assume that $n \\ge 2$."
   ]
  },
  {
   "cell_type": "code",
   "execution_count": 1,
   "metadata": {},
   "outputs": [
    {
     "data": {
      "text/plain": [
       "four_term (generic function with 1 method)"
      ]
     },
     "execution_count": 1,
     "metadata": {},
     "output_type": "execute_result"
    }
   ],
   "source": [
    "function four_term(y0, y1, y2, n)\n",
    "    \n",
    "#=\n",
    "four_term(y0, y1, y2, n)\n",
    "\n",
    "Computes the 4-term recurrrence relation defined by \"ay_{n+1} = by_n + cy_{n-1} + dy_{n-2}\". The values of the constants\n",
    "a, b, c and d are fixed. Returns the n-th term in the sequence where the first three are provided as Input, i.e. y0, y1, y2 are the inputs.   \n",
    "\n",
    "=#\n",
    "    \n",
    "    a, b, c , d = 1, 2, -5/4, 1/4; # fixed constants for the recurrence relation are initialized\n",
    "    \n",
    "    vals = Float64[]\n",
    "    \n",
    "    # The initial provided three integers are added to the List \n",
    "    push!(vals,  y0) \n",
    "    push!(vals,  y1)\n",
    "    push!(vals,  y2)\n",
    "    \n",
    "    # We iterare over the remaning terms starting skipping y0 since it has already been considered\n",
    "    for i = 1:(n-2)\n",
    "        \n",
    "        x1 = d * vals[i] # compute each consecutive three terms in each iteration for the y[i]th term in the relation\n",
    "        x2 = c * vals[i+1]\n",
    "        x3 = b * vals[i+2]\n",
    "        \n",
    "        push!(vals, x1 + x2 + x3)\n",
    "        \n",
    "    end\n",
    "    \n",
    "    #return the last element\n",
    "    output = vals[n+1]\n",
    "    return (\"The final output value of the recurrent relation is: $output\")\n",
    "    \n",
    "end"
   ]
  },
  {
   "cell_type": "markdown",
   "metadata": {},
   "source": [
    "### Problem 1 (b)\n",
    "Print out the results from evaluating the function with $y_0=1$, $y_1=5$, $y_2=-2$ and $n = 5, 10, 100, 500$. "
   ]
  },
  {
   "cell_type": "code",
   "execution_count": 2,
   "metadata": {},
   "outputs": [
    {
     "name": "stdout",
     "output_type": "stream",
     "text": [
      "The final output value of the recurrent relation is: -20.5\n",
      "The final output value of the recurrent relation is: -26.62109375\n",
      "The final output value of the recurrent relation is: -26.999999999999982\n",
      "The final output value of the recurrent relation is: -26.999999999999957\n"
     ]
    }
   ],
   "source": [
    "println(four_term(1, 5, -2, 5))\n",
    "println(four_term(1, 5, -2, 10))\n",
    "println(four_term(1, 5, -2, 100))\n",
    "println(four_term(1, 5, -2, 500))"
   ]
  },
  {
   "cell_type": "markdown",
   "metadata": {},
   "source": [
    "### Problem 1(c) \n",
    "Print out the results from evaluating the function with $y_0=-2$, $y_1=1$, $y_2=5$, and $n = 5, 10, 100, 500$. "
   ]
  },
  {
   "cell_type": "code",
   "execution_count": 3,
   "metadata": {},
   "outputs": [
    {
     "name": "stdout",
     "output_type": "stream",
     "text": [
      "The final output value of the recurrent relation is: 11.9375\n",
      "The final output value of the recurrent relation is: 13.88671875\n",
      "The final output value of the recurrent relation is: 13.999999999999954\n",
      "The final output value of the recurrent relation is: 13.999999999999954\n"
     ]
    }
   ],
   "source": [
    "println(four_term(-2, 1, 5, 5))\n",
    "println(four_term(-2, 1, 5, 10))\n",
    "println(four_term(-2, 1, 5, 100))\n",
    "println(four_term(-2, 1, 5, 500))"
   ]
  },
  {
   "cell_type": "markdown",
   "metadata": {},
   "source": [
    "### Problem 2\n",
    "(Adapted from **Think**, P7-4)\n",
    "\n",
    "The following sequence converges to $\\pi$:\n",
    "$$a_n = \\cfrac{6}{\\sqrt{3}} \\sum_{k=0}^n \\cfrac{(-1)^k}{3^k(2k+1)}$$\n",
    "\n",
    "[//]: #$$b_n = 16 \\sum_{k=0}^n \\cfrac{(-1)^k}{5^{2k+1}(2k+1)} - 4 \\sum_{k=0}^n \\cfrac{(-1)^k}{239^{2k+1}(2k+1)}$$\n",
    "\n",
    "Moreover, the mathematician Srinivasa Ramanujan found an infinite series that can be used to generate a numerical approximation of $\\frac{1}{\\pi}$:\n",
    "$$\\cfrac{1}{\\pi} = \\cfrac{2 \\sqrt{2}}{9801} \\sum_{k=0}^\\infty \\cfrac{(4k)!(1103+26390k)}{(k!)^4 396^{4k}}$$\n",
    "\n",
    "### Problem 2 (a)\n",
    "Write a function `pi_a()` that uses this first formula to compute and return an estimate of $\\pi$ in a way that avoids overflow issues. It should use a while loop to compute terms of the summation until the **difference in two consecutive terms is smaller than $10^{-15}$**."
   ]
  },
  {
   "cell_type": "code",
   "execution_count": 9,
   "metadata": {},
   "outputs": [
    {
     "data": {
      "text/plain": [
       "pi_a (generic function with 1 method)"
      ]
     },
     "execution_count": 9,
     "metadata": {},
     "output_type": "execute_result"
    }
   ],
   "source": [
    "function pi_a()\n",
    "    # Initialization\n",
    "    converged=false\n",
    "    summand=1\n",
    "    k=0\n",
    "    sum=1\n",
    "    mult_factor=6/sqrt(3)\n",
    "    a_n=mult_factor*sum\n",
    "\n",
    "    while (!converged)\n",
    "        # Update summand from previous summand to avoid overflow\n",
    "        k+=1\n",
    "        summand=-summand/3.0* (2k-1)/(2k+1)\n",
    "        sum+=summand\n",
    "        a_prev=a_n\n",
    "        a_n=mult_factor*sum\n",
    "        # Check for convergence\n",
    "        if (abs(a_n-a_prev) <=1e-15)\n",
    "            converged=true\n",
    "        end\n",
    "    end\n",
    "    \n",
    "    return a_n\n",
    "end"
   ]
  },
  {
   "cell_type": "code",
   "execution_count": 10,
   "metadata": {},
   "outputs": [
    {
     "data": {
      "text/plain": [
       "3.141592653589794"
      ]
     },
     "execution_count": 10,
     "metadata": {},
     "output_type": "execute_result"
    }
   ],
   "source": [
    "pi_a()"
   ]
  },
  {
   "cell_type": "markdown",
   "metadata": {},
   "source": [
    "### Problem 2 (b)\n",
    "Write a function `pi_ramanu()` that uses Ramanujan's formula to compute and return an estimate of $\\pi$ in a way that avoids overflow issues. It should use a while loop to compute terms of the summation until **the last term is smaller than $10^{-15}$**."
   ]
  },
  {
   "cell_type": "markdown",
   "metadata": {},
   "source": [
    "$$\\cfrac{1}{\\pi} = \\cfrac{2 \\sqrt{2}}{9801} \\sum_{k=0}^\\infty \\cfrac{(4k)!(1103+26390k)}{(k!)^4 396^{4k}}$$"
   ]
  },
  {
   "cell_type": "code",
   "execution_count": 11,
   "metadata": {},
   "outputs": [
    {
     "data": {
      "text/plain": [
       "pi_ramanu (generic function with 1 method)"
      ]
     },
     "execution_count": 11,
     "metadata": {},
     "output_type": "execute_result"
    }
   ],
   "source": [
    "#=\n",
    "pi_ramanu()\n",
    "\n",
    "This function computes the following series; $$\\cfrac{1}{\\pi} = \\cfrac{2 \\sqrt{2}}{9801} \\sum_{k=0}^\\infty \\cfrac{(4k)!(1103+26390k)}{(k!)^4 396^{4k}}$$\n",
    "It terminates only if the delta between each consecutive is below 10e-15.\n",
    "=#\n",
    "function pi_ramanu()\n",
    "    \n",
    "    term1=2*sqrt(2) /9801\n",
    "    term=1103term1 # First term\n",
    "    s=term\n",
    "    k=1\n",
    "    while term ≥ 1e-15\n",
    "        term1 *= (4k-3) * (4k-2) * (4k-1) *4k/k^4/396^4\n",
    "        term = term1 * (1103+26390k)\n",
    "        s += term\n",
    "        k += 1 \n",
    "        println(s)\n",
    "    end \n",
    "    1/s\n",
    "end"
   ]
  },
  {
   "cell_type": "code",
   "execution_count": 12,
   "metadata": {
    "scrolled": true
   },
   "outputs": [
    {
     "name": "stdout",
     "output_type": "stream",
     "text": [
      "0.31830988618379064\n",
      "0.3183098861837907\n"
     ]
    },
    {
     "data": {
      "text/plain": [
       "3.141592653589793"
      ]
     },
     "execution_count": 12,
     "metadata": {},
     "output_type": "execute_result"
    }
   ],
   "source": [
    "pi_ramanu()"
   ]
  },
  {
   "cell_type": "markdown",
   "metadata": {},
   "source": [
    "### Problem 3\n",
    "(Adapted from Project Euler, Problem 3)\n",
    "\n",
    "The prime factors of 13195 are 5, 7, 13, and 29.\n",
    "\n",
    "What is the largest prime factor of the number 600855143 ?"
   ]
  },
  {
   "cell_type": "code",
   "execution_count": 8,
   "metadata": {},
   "outputs": [
    {
     "data": {
      "text/plain": [
       "largest_prime_factor (generic function with 1 method)"
      ]
     },
     "execution_count": 8,
     "metadata": {},
     "output_type": "execute_result"
    }
   ],
   "source": [
    "function largest_prime_factor(n)\n",
    "#=\n",
    "    The function largest_prime_factor(n) takes as input an integer and returns the largest prime factor of integer n\n",
    "=#\n",
    "    \n",
    "    iscoprime(P, i) = any(x -> i % x == 0, P) # This creates a boolean vector of the List P for each integer i where only if they are co-prime\n",
    "\n",
    "    prime = Int64[] # init an unsized array of type Int64\n",
    "    \n",
    "    # We check backwards for each j if j is coprime with the other integers\n",
    "    for j = n-1:-1:2\n",
    "        # We check wether if it is co-prime AND also it factors the given integer\n",
    "        if (!iscoprime(prime,j)) && ((n % j) == 0)\n",
    "            # we push that value to the List prime\n",
    "            push!(prime,j)\n",
    "            #return j\n",
    "        end\n",
    "    end\n",
    "    \n",
    "    # Returns the largest value of the list\n",
    "    return maximum(prime)\n",
    "end"
   ]
  },
  {
   "cell_type": "code",
   "execution_count": 9,
   "metadata": {},
   "outputs": [
    {
     "data": {
      "text/plain": [
       "85836449"
      ]
     },
     "execution_count": 9,
     "metadata": {},
     "output_type": "execute_result"
    }
   ],
   "source": [
    "#largest_prime_factor(26)\n",
    "largest_prime_factor(600855143)"
   ]
  },
  {
   "cell_type": "markdown",
   "metadata": {},
   "source": [
    "### Problem 4\n",
    "We wish to solve the equation $x = \\cos{x}$ for $x \\in \\mathbb{R}$. The fixed point iteration for this equation is defined to be:\n",
    "\n",
    "$$x_{n+1} = \\cos{(x_n)}$$\n",
    "\n",
    "where $x_n$ are successively better approximations to the true solution $x_*$. We start this iteration with the initial guess $x_0 = 1$.\n",
    "\n",
    "### Problem 4 (a)\n",
    "Write a function `fixed_point(tol)` that computes an approximate solution using this fixed point iteration such that the error $|x_n - x_{n-1}|$ is within a specified tolerance. Test it with `tol=1e-3, 1e-6, 1e-12`. How many iterations does it take each test to converge?"
   ]
  },
  {
   "cell_type": "code",
   "execution_count": 10,
   "metadata": {},
   "outputs": [
    {
     "data": {
      "text/plain": [
       "fixed_point (generic function with 1 method)"
      ]
     },
     "execution_count": 10,
     "metadata": {},
     "output_type": "execute_result"
    }
   ],
   "source": [
    "function fixed_point(tol)\n",
    "   \n",
    "    #=\n",
    "    The function fixed_point(tol) takes as input tol which specifies a range for the difference between each consecutive ouput\n",
    "    We compute the fixed point iteration of the function; cos(x)\n",
    "    =#\n",
    "    \n",
    "    δ = 1.0 # init the tolerance to a non-zero value\n",
    "    iterations = Float64[] # init an empty list \n",
    "    push!(iterations, 1) # we push the value of the inital guess \n",
    "    i = 1\n",
    "    \n",
    "    # We compute the fixed point iteration whilst the difference is larger than the tolerance\n",
    "    while δ ≥ tol\n",
    "        \n",
    "        # We add the newly computed iteration value at each step to the list\n",
    "        push!(iterations,cos(iterations[i]))\n",
    "        \n",
    "        #println(\"Iteration: \", i)\n",
    "        #println(\"x_{$i} : \", iterations[i+1])\n",
    "        #println(\"----\")\n",
    "        \n",
    "        # We compute the difference between each two consecutive terms in list\n",
    "        δ = abs(iterations[i+1] - iterations[i])\n",
    "        \n",
    "        i += 1\n",
    "        \n",
    "    end\n",
    "    \n",
    "    # Store the value of the iteration and return it\n",
    "    output = iterations[length(iterations)]\n",
    "    \n",
    "    return (\"The method took $i iterations and the final output is $output\")\n",
    "    \n",
    "end"
   ]
  },
  {
   "cell_type": "code",
   "execution_count": 11,
   "metadata": {},
   "outputs": [
    {
     "data": {
      "text/plain": [
       "\"The method took 18 iterations and the final output is 0.7387603198742114\""
      ]
     },
     "execution_count": 11,
     "metadata": {},
     "output_type": "execute_result"
    }
   ],
   "source": [
    "fixed_point(1e-3)"
   ]
  },
  {
   "cell_type": "code",
   "execution_count": 12,
   "metadata": {},
   "outputs": [
    {
     "data": {
      "text/plain": [
       "\"The method took 35 iterations and the final output is 0.7390855263619245\""
      ]
     },
     "execution_count": 12,
     "metadata": {},
     "output_type": "execute_result"
    }
   ],
   "source": [
    "fixed_point(1e-6)"
   ]
  },
  {
   "cell_type": "code",
   "execution_count": 13,
   "metadata": {},
   "outputs": [
    {
     "data": {
      "text/plain": [
       "\"The method took 70 iterations and the final output is 0.7390851332147725\""
      ]
     },
     "execution_count": 13,
     "metadata": {},
     "output_type": "execute_result"
    }
   ],
   "source": [
    "fixed_point(1e-12)"
   ]
  },
  {
   "cell_type": "markdown",
   "metadata": {},
   "source": [
    "### Problem 4 (b)\n",
    "Derive Newton's method for solving the equation $x = \\cos{x}$."
   ]
  },
  {
   "cell_type": "markdown",
   "metadata": {},
   "source": [
    "Set $f(x) = x - \\cos x$.\n",
    "\n",
    "Newton's method is\n",
    "$$\n",
    "   x_{n+1} = x_n - \\frac{f(x_n)}{f'(x_n)}\n",
    "$$\n",
    "\n",
    "Substituting $f(x)$ gives\n",
    "$$\n",
    "   x_{n+1} = x_n - \\frac{x_n - \\cos x_n}{1 + \\sin x_n}\n",
    "$$"
   ]
  },
  {
   "cell_type": "markdown",
   "metadata": {},
   "source": [
    "### Problem 4 (c)\n",
    "Write a function `newton_method(tol)` to compute an approximate solution using Newton's method, such that the error is within a specified tolerance. Again use the initial guess $x_0 = 1$. Test it with `tol=1e-3, 1e-6, 1e-12`. How many iterations does it take each test to converge?"
   ]
  },
  {
   "cell_type": "code",
   "execution_count": 14,
   "metadata": {},
   "outputs": [
    {
     "data": {
      "text/plain": [
       "newton_method (generic function with 1 method)"
      ]
     },
     "execution_count": 14,
     "metadata": {},
     "output_type": "execute_result"
    }
   ],
   "source": [
    "function newton_method(tol)\n",
    "    \n",
    "    #=\n",
    "    The function newton_method(tol) takes as input tol which specifies an accepted range for the difference between each two consecutive ouput\n",
    "    We compute the fixed point iteration of the function; cos(x) using the Newton's Method\n",
    "    =#\n",
    "    \n",
    "    δ = 1 # init the tolerance to a non-zero value\n",
    "    iterations = Float64[] # init an empty list \n",
    "    push!(iterations, 1.0) # we push the value of the inital guess \n",
    "    i = 1\n",
    "    \n",
    "    # We compute the newton method iteration whilst the difference is larger than the tolerance\n",
    "    while δ ≥ tol\n",
    "        \n",
    "        # We add the newly computed iteration value at each step to the list\n",
    "        push!(iterations,( iterations[i]  - ( (iterations[i] - cos(iterations[i])) / (1 + sin(iterations[i])) ) ))\n",
    "        \n",
    "        #println(\"Iteration: \", i)\n",
    "        #println(\"x_{$i} : \", iterations[i+1])\n",
    "        #println(\"----\")\n",
    "        \n",
    "        # We compute the difference between each two consecutive terms in list\n",
    "        δ = abs(iterations[i+1] - iterations[i])\n",
    "        \n",
    "        i += 1\n",
    "        \n",
    "    end\n",
    "    \n",
    "    # Store the value of the iteration and return it\n",
    "    output = iterations[length(iterations)]\n",
    "    \n",
    "    return (\"The method took $i iterations and the final output is $output\")\n",
    "      \n",
    "end"
   ]
  },
  {
   "cell_type": "code",
   "execution_count": 15,
   "metadata": {},
   "outputs": [
    {
     "data": {
      "text/plain": [
       "\"The method took 4 iterations and the final output is 0.739085133385284\""
      ]
     },
     "execution_count": 15,
     "metadata": {},
     "output_type": "execute_result"
    }
   ],
   "source": [
    "newton_method(1e-3)"
   ]
  },
  {
   "cell_type": "code",
   "execution_count": 16,
   "metadata": {},
   "outputs": [
    {
     "data": {
      "text/plain": [
       "\"The method took 5 iterations and the final output is 0.7390851332151607\""
      ]
     },
     "execution_count": 16,
     "metadata": {},
     "output_type": "execute_result"
    }
   ],
   "source": [
    "newton_method(1e-6)"
   ]
  },
  {
   "cell_type": "code",
   "execution_count": 17,
   "metadata": {},
   "outputs": [
    {
     "data": {
      "text/plain": [
       "\"The method took 6 iterations and the final output is 0.7390851332151607\""
      ]
     },
     "execution_count": 17,
     "metadata": {},
     "output_type": "execute_result"
    }
   ],
   "source": [
    "newton_method(1e-12)"
   ]
  }
 ],
 "metadata": {
  "kernelspec": {
   "display_name": "Julia 1.5.3",
   "language": "julia",
   "name": "julia-1.5"
  },
  "language_info": {
   "file_extension": ".jl",
   "mimetype": "application/julia",
   "name": "julia",
   "version": "1.5.3"
  }
 },
 "nbformat": 4,
 "nbformat_minor": 2
}
