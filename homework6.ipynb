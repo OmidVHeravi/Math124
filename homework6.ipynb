{
 "cells": [
  {
   "cell_type": "markdown",
   "metadata": {},
   "source": [
    "# Math 124 - Programming for Mathematical Applications\n",
    "UC Berkeley, Spring 2021\n",
    "\n",
    "## Homework 6 - Solutions\n",
    "Due Wednesday, March 3"
   ]
  },
  {
   "cell_type": "code",
   "execution_count": 1,
   "metadata": {},
   "outputs": [],
   "source": [
    "using LinearAlgebra, PyPlot"
   ]
  },
  {
   "cell_type": "markdown",
   "metadata": {},
   "source": [
    "### Problem 1 - Hilbert matrices\n",
    "\n",
    "A *Hilbert matrix* $H$ of size $n$-by-$n$ has entries\n",
    "\n",
    "$$\n",
    "H_{ij} = \\frac{1}{i + j - 1}\n",
    "$$"
   ]
  },
  {
   "cell_type": "markdown",
   "metadata": {},
   "source": [
    "#### Problem 1(a)\n",
    "\n",
    "Create a 2D array with a Hilbert matrix $H$ of size $n=6$."
   ]
  },
  {
   "cell_type": "code",
   "execution_count": 2,
   "metadata": {},
   "outputs": [
    {
     "data": {
      "text/plain": [
       "6×6 Array{Float64,2}:\n",
       " 1.0       0.5       0.333333  0.25      0.2       0.166667\n",
       " 0.5       0.333333  0.25      0.2       0.166667  0.142857\n",
       " 0.333333  0.25      0.2       0.166667  0.142857  0.125\n",
       " 0.25      0.2       0.166667  0.142857  0.125     0.111111\n",
       " 0.2       0.166667  0.142857  0.125     0.111111  0.1\n",
       " 0.166667  0.142857  0.125     0.111111  0.1       0.0909091"
      ]
     },
     "execution_count": 2,
     "metadata": {},
     "output_type": "execute_result"
    }
   ],
   "source": [
    "H = [(1/(i+j-1)) for i = 1:6, j = 1:6]"
   ]
  },
  {
   "cell_type": "markdown",
   "metadata": {},
   "source": [
    "#### Problem 1(b)\n",
    "\n",
    "Convert $H$ to a `Symmetric` matrix."
   ]
  },
  {
   "cell_type": "code",
   "execution_count": 3,
   "metadata": {},
   "outputs": [
    {
     "data": {
      "text/plain": [
       "6×6 Symmetric{Float64,Array{Float64,2}}:\n",
       " 1.0       0.5       0.333333  0.25      0.2       0.166667\n",
       " 0.5       0.333333  0.25      0.2       0.166667  0.142857\n",
       " 0.333333  0.25      0.2       0.166667  0.142857  0.125\n",
       " 0.25      0.2       0.166667  0.142857  0.125     0.111111\n",
       " 0.2       0.166667  0.142857  0.125     0.111111  0.1\n",
       " 0.166667  0.142857  0.125     0.111111  0.1       0.0909091"
      ]
     },
     "execution_count": 3,
     "metadata": {},
     "output_type": "execute_result"
    }
   ],
   "source": [
    "B = Symmetric(H)"
   ]
  },
  {
   "cell_type": "markdown",
   "metadata": {},
   "source": [
    "#### Problem 1(c)\n",
    "\n",
    "Create the matrix $G = H^2$."
   ]
  },
  {
   "cell_type": "code",
   "execution_count": 4,
   "metadata": {},
   "outputs": [
    {
     "data": {
      "text/plain": [
       "6×6 Array{Float64,2}:\n",
       " 1.49139   0.857143  0.616071  0.484788  0.401091  0.342691\n",
       " 0.857143  0.511797  0.375     0.298611  0.249074  0.214078\n",
       " 0.616071  0.375     0.277422  0.222222  0.186111  0.160438\n",
       " 0.484788  0.298611  0.222222  0.178657  0.15      0.129545\n",
       " 0.401091  0.249074  0.186111  0.15      0.126157  0.109091\n",
       " 0.342691  0.214078  0.160438  0.129545  0.109091  0.0944211"
      ]
     },
     "execution_count": 4,
     "metadata": {},
     "output_type": "execute_result"
    }
   ],
   "source": [
    "G = H^2"
   ]
  },
  {
   "cell_type": "markdown",
   "metadata": {},
   "source": [
    "#### Problem 1(d)\n",
    "\n",
    "Consider the linear system $G\\boldsymbol{x} = \\boldsymbol{b}$, where\n",
    "\n",
    "$$\n",
    "b_i = \\sum_{j=1}^n G_{ij}\n",
    "$$\n",
    "\n",
    "What is the exact solution $\\boldsymbol{x}$?"
   ]
  },
  {
   "cell_type": "markdown",
   "metadata": {},
   "source": [
    "So the exact solution of $x$ is $x$ = $ G^{-1} \\cdot $ **b** $=$ **1**, where **1** is a column vector of all 1s."
   ]
  },
  {
   "cell_type": "markdown",
   "metadata": {},
   "source": [
    "#### Problem 1(e)\n",
    "\n",
    "Solve numerically for $\\boldsymbol{x}$."
   ]
  },
  {
   "cell_type": "code",
   "execution_count": 5,
   "metadata": {},
   "outputs": [
    {
     "data": {
      "text/plain": [
       "6×1 Array{Float64,2}:\n",
       " 1.000007598058229\n",
       " 0.9997832281843501\n",
       " 1.001465357029944\n",
       " 0.9961917233942071\n",
       " 1.0042002390070657\n",
       " 0.9983461411426179"
      ]
     },
     "execution_count": 5,
     "metadata": {},
     "output_type": "execute_result"
    }
   ],
   "source": [
    "b = sum(G, dims=2)\n",
    "x = G\\b"
   ]
  },
  {
   "cell_type": "markdown",
   "metadata": {},
   "source": [
    "#### Problem 1(f)\n",
    "\n",
    "Compute $\\| \\boldsymbol{x} - \\boldsymbol{1} \\|_2$, where $\\boldsymbol{1}$ is a vector with all entries = 1."
   ]
  },
  {
   "cell_type": "code",
   "execution_count": 6,
   "metadata": {},
   "outputs": [
    {
     "data": {
      "text/plain": [
       "0.006088887133015536"
      ]
     },
     "execution_count": 6,
     "metadata": {},
     "output_type": "execute_result"
    }
   ],
   "source": [
    "One = ones(length(x))\n",
    "norm(x - One, 2)"
   ]
  },
  {
   "cell_type": "markdown",
   "metadata": {},
   "source": [
    "#### Problem 1(g)\n",
    "\n",
    "This is an example of a highly *ill-conditioned* matrix, which means operations such as solving linear systems can be very inaccurate. Compute the so-called *condition number* of $G$, defined by:\n",
    "\n",
    "$$\n",
    "\\kappa(G) = \\frac{\\lambda_\\mathrm{max}}{\\lambda_\\mathrm{min}}\n",
    "$$\n",
    "\n",
    "that is, the ratio of the largest and the smallest eigenvalues of $G$."
   ]
  },
  {
   "cell_type": "code",
   "execution_count": 7,
   "metadata": {},
   "outputs": [
    {
     "data": {
      "text/plain": [
       "2.2540527603354147e14"
      ]
     },
     "execution_count": 7,
     "metadata": {},
     "output_type": "execute_result"
    }
   ],
   "source": [
    "eig = eigvals(G)\n",
    "l_max = maximum(abs.(eig))\n",
    "l_min = minimum(abs.(eig))\n",
    "condition_number = l_max / l_min"
   ]
  },
  {
   "cell_type": "markdown",
   "metadata": {},
   "source": [
    "### Problem 2 - The Strassen algorithm\n",
    "\n",
    "The Strassen algorithm is a method for matrix-matrix multiplication which performs asymptotically fewer operations than the standard method for large matrices (but it is still slower in practice for most matrices). Consider the matrix-matrix product $C=AB$, where $A,B,C$ are $n$-by-$n$ matrices and $n$ is a power of 2. Partition the matrices as\n",
    "\n",
    "$$\n",
    "A =\n",
    "\\begin{pmatrix}\n",
    "A_{11} & A_{12} \\\\\n",
    "A_{21} & A_{22}\n",
    "\\end{pmatrix}, \\quad\n",
    "B =\n",
    "\\begin{pmatrix}\n",
    "B_{11} & B_{12} \\\\\n",
    "B_{21} & B_{22}\n",
    "\\end{pmatrix}, \\quad\n",
    "C =\n",
    "\\begin{pmatrix}\n",
    "C_{11} & C_{12} \\\\\n",
    "C_{21} & C_{22}\n",
    "\\end{pmatrix}\n",
    "$$\n",
    "\n",
    "where all submatrices are of size $n/2$-by-$n/2$. Now evaluate the following 7 (smaller) matrix-matrix products recursively:\n",
    "\n",
    "$$\n",
    "\\begin{align*}\n",
    "M_1 &= (A_{11} + A_{22})(B_{11} + B_{22}) \\\\\n",
    "M_2 &= (A_{21} + A_{22})B_{11} \\\\\n",
    "M_3 &= A_{11}(B_{12} - B_{22}) \\\\\n",
    "M_4 &= A_{22}(B_{21} - B_{11}) \\\\\n",
    "M_5 &= (A_{11} + A_{12})B_{22} \\\\\n",
    "M_6 &= (A_{21} - A_{11})(B_{11} + B_{12}) \\\\\n",
    "M_7 &= (A_{12} - A_{22})(B_{21} + B_{22})\n",
    "\\end{align*}\n",
    "$$\n",
    "\n",
    "and finally form $C$ from the following submatrices:\n",
    "\n",
    "$$\n",
    "\\begin{align*}\n",
    "C_{11} &= M_1 + M_4 - M_5 + M_7 \\\\\n",
    "C_{12} &= M_3 + M_5 \\\\\n",
    "C_{21} &= M_2 + M_4 \\\\\n",
    "C_{22} &= M_1 - M_2 + M_3 + M_6\n",
    "\\end{align*}\n",
    "$$\n",
    "\n",
    "Implement this algorithm as a function `strassen(A,B)`, which assumes the size of `A` and `B` are powers of 2. The base case is when the matrix sizes are 1-by-1, and the multiplication is a scalar multiplication."
   ]
  },
  {
   "cell_type": "code",
   "execution_count": 8,
   "metadata": {},
   "outputs": [
    {
     "data": {
      "text/plain": [
       "strassen (generic function with 1 method)"
      ]
     },
     "execution_count": 8,
     "metadata": {},
     "output_type": "execute_result"
    }
   ],
   "source": [
    "function split(A)\n",
    "    \n",
    "    rows, cols = size(A,1), size(A,2)\n",
    "    halfrow, halfcols = (rows÷2), (cols÷2)\n",
    "    return A[1:halfrow, 1:halfcols], A[ 1:halfrow, halfcols+1:cols], A[ halfrow+1:rows , 1:halfcols], A[ halfrow+1:rows , halfcols+1:cols ] \n",
    "end\n",
    "\n",
    "function strassen(A,B)\n",
    "    \n",
    "    n = size(A, 1)\n",
    "    \n",
    "    if n == 1\n",
    "        \n",
    "        return A*B\n",
    "        \n",
    "    end\n",
    "        \n",
    "    A11, A12, A21, A22 = split(A)\n",
    "    B11, B12, B21, B22 = split(B)\n",
    "\n",
    "\n",
    "    M1 = strassen( (A11 + A22), (B11 + B22))\n",
    "    M2 = strassen( (A21 + A22), B11)\n",
    "    M3 = strassen( A11, (B12 - B22))\n",
    "    M4 = strassen( A22, (B21 - B11) )\n",
    "    M5 = strassen( (A11 + A12), B22 )\n",
    "    M6 = strassen( (A21 - A11), (B11 + B12) )\n",
    "    M7 = strassen( (A12 - A22), (B21 + B22) )\n",
    "\n",
    "    C11 = M1 + M4 - M5 + M7\n",
    "    C12 = M3 + M5\n",
    "    C21 = M2 + M4\n",
    "    C22 = M1 - M2 + M3 + M6\n",
    "\n",
    "    C = [C11 C12 ; C21 C22]\n",
    "\n",
    "    return C\n",
    "    \n",
    "end"
   ]
  },
  {
   "cell_type": "markdown",
   "metadata": {},
   "source": [
    "Test your function using the commands below."
   ]
  },
  {
   "cell_type": "code",
   "execution_count": 9,
   "metadata": {},
   "outputs": [
    {
     "data": {
      "text/plain": [
       "5.1176840543121216e-12"
      ]
     },
     "execution_count": 9,
     "metadata": {},
     "output_type": "execute_result"
    }
   ],
   "source": [
    "A = randn(256,256)\n",
    "B = randn(256,256)\n",
    "C = strassen(A,B)\n",
    "D = A * B\n",
    "(maximum(abs.(C-D))) # Should be very small"
   ]
  },
  {
   "cell_type": "markdown",
   "metadata": {},
   "source": [
    "### Problem 3 - Polynomial data fitting\n",
    "\n",
    "Generalize the example on linear regression from the lecture notebook, to fit a polynomial of degree $p\\ge 1$ to the data (the linear regression example corresponds to $p=1$)."
   ]
  },
  {
   "cell_type": "markdown",
   "metadata": {},
   "source": [
    "#### Problem 3(a)\n",
    "\n",
    "Write a function with the syntax `pol = polyfit(x, y, p)` which computes a polynomial `pol` of degree `p` that is a least-squares fit of the data `x,y`."
   ]
  },
  {
   "cell_type": "code",
   "execution_count": 10,
   "metadata": {},
   "outputs": [
    {
     "data": {
      "text/plain": [
       "polyfit (generic function with 1 method)"
      ]
     },
     "execution_count": 10,
     "metadata": {},
     "output_type": "execute_result"
    }
   ],
   "source": [
    "function polyfit(x, y, p)\n",
    "    \n",
    "    l = length(x)\n",
    "    onesArr = ones(l)\n",
    "    M = zeros(l,0)\n",
    "    M = hcat(M,onesArr)\n",
    "    \n",
    "    for i in 1:p\n",
    "        z = (x).^i\n",
    "        M = hcat(M,z)\n",
    "    end\n",
    "\n",
    "    sol = M \\ y\n",
    "    \n",
    "    return (sol)\n",
    "    \n",
    "end"
   ]
  },
  {
   "cell_type": "markdown",
   "metadata": {},
   "source": [
    "#### Problem 3(b)\n",
    "\n",
    "Write a function with the syntax `yy = polyval(pol, xx)` which evaluates the polynomial `pol` at all the $x$-values in `xx`."
   ]
  },
  {
   "cell_type": "code",
   "execution_count": 11,
   "metadata": {},
   "outputs": [
    {
     "data": {
      "text/plain": [
       "polyval (generic function with 1 method)"
      ]
     },
     "execution_count": 11,
     "metadata": {},
     "output_type": "execute_result"
    }
   ],
   "source": [
    "function polyval(pol, xx)\n",
    "    \n",
    "    n = length(pol) \n",
    "    println(pol)\n",
    "    yy = []\n",
    "    \n",
    "    for x in xx\n",
    "        y = 0\n",
    "        for j = 1:n\n",
    "            y +=  x^(j-1)*pol[j]\n",
    "        end\n",
    "        push!(yy,y)\n",
    "    end\n",
    "    \n",
    "    return yy\n",
    "end"
   ]
  },
  {
   "cell_type": "markdown",
   "metadata": {},
   "source": [
    "#### Problem 3(c)\n",
    "\n",
    "Demonstrate your functions by fitting a cubic polynomial to the following data, and plotting in the same way as in the lecture notebook:"
   ]
  },
  {
   "cell_type": "code",
   "execution_count": 12,
   "metadata": {},
   "outputs": [],
   "source": [
    "x = 0:0.1:10\n",
    "noise = 2randn(size(x))\n",
    "y = @. 0.1x^3 - x^2 + 2x - 2 + noise; # Example data: cubic with noise"
   ]
  },
  {
   "cell_type": "code",
   "execution_count": 13,
   "metadata": {},
   "outputs": [
    {
     "data": {
      "image/png": "[encoded data removed]",
      "text/plain": [
       "Figure(PyObject <Figure size 640x480 with 1 Axes>)"
      ]
     },
     "metadata": {},
     "output_type": "display_data"
    },
    {
     "name": "stdout",
     "output_type": "stream",
     "text": [
      "[-0.6120002833896231, 1.5925424606365848, -0.9311276847473748, 0.09472667563280092]\n"
     ]
    },
    {
     "data": {
      "text/plain": [
       "1-element Array{PyCall.PyObject,1}:\n",
       " PyObject <matplotlib.lines.Line2D object at 0x7f8ad7192d90>"
      ]
     },
     "execution_count": 13,
     "metadata": {},
     "output_type": "execute_result"
    }
   ],
   "source": [
    "pol = polyfit(x, y, 3)\n",
    "yy = polyval(pol,x)\n",
    "xplot = 0:0.1:10\n",
    "\n",
    "using PyPlot\n",
    "plot(x, y, \".\")\n",
    "plot(x,yy,\"r\")"
   ]
  },
  {
   "cell_type": "markdown",
   "metadata": {},
   "source": [
    "### Problem 4 - Strings and File Processing\n",
    "\n",
    "From Think Julia:\n",
    "\n",
    "> Give me a word with three consecutive double letters. I’ll give you a couple of words that\n",
    "> almost qualify, but don’t. For example, the word committee, c-o-m-m-i-t-t-e-e. It would be\n",
    "> great except for the i that sneaks in there. Or Mississippi: M-i-s-s-i-s-s-i-p-p-i. If you\n",
    "> could take out those i’s it would work. But there is a word that has three consecutive pairs\n",
    "> of letters and to the best of my knowledge this may be the only word. Of course there are\n",
    "> probably 500 more but I can only think of one. What is the word?\n",
    "\n",
    "Write a program to find these words. First download the file <https://github.com/BenLauwens/ThinkJulia.jl/blob/master/data/words.txt> to your computer, and upload it to the datahub in the same directory that you keep your notebook. Then read each line of the file, and if the you find the pattern described above, print the word."
   ]
  },
  {
   "cell_type": "code",
   "execution_count": 14,
   "metadata": {},
   "outputs": [
    {
     "data": {
      "text/plain": [
       "\"bookkeeper\""
      ]
     },
     "execution_count": 14,
     "metadata": {},
     "output_type": "execute_result"
    }
   ],
   "source": [
    "function threeDoubles(str)\n",
    "\n",
    "    for i = 1 : length(str)\n",
    "        if i < length(str)\n",
    "            if str[i] == str[i+1]\n",
    "                if i+3 ≤ length(str)\n",
    "                    if str[i+2] == str[i+3]\n",
    "                        if i+5 ≤ length(str)\n",
    "                            if str[i+4] == str[i+5]\n",
    "                                return true\n",
    "                            end\n",
    "                        end\n",
    "                    end\n",
    "                end\n",
    "            end\n",
    "        end\n",
    "    end \n",
    "    \n",
    "    return false\n",
    "    \n",
    "end\n",
    "\n",
    "\n",
    "for line in eachline(\"words.txt\")\n",
    "    \n",
    "    if threeDoubles(line)\n",
    "        return line\n",
    "    end\n",
    "    \n",
    "end"
   ]
  }
 ],
 "metadata": {
  "kernelspec": {
   "display_name": "Julia 1.5.3",
   "language": "julia",
   "name": "julia-1.5"
  },
  "language_info": {
   "file_extension": ".jl",
   "mimetype": "application/julia",
   "name": "julia",
   "version": "1.5.3"
  }
 },
 "nbformat": 4,
 "nbformat_minor": 2
}
